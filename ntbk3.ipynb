{
 "cells": [
  {
   "cell_type": "code",
   "execution_count": 20,
   "metadata": {},
   "outputs": [],
   "source": [
    "import numpy as np\n",
    "import pandas as pd\n",
    "import matplotlib.pyplot as plt\n",
    "%matplotlib inline"
   ]
  },
  {
   "cell_type": "code",
   "execution_count": 21,
   "metadata": {},
   "outputs": [],
   "source": [
    "import tensorflow as tf"
   ]
  },
  {
   "cell_type": "code",
   "execution_count": 22,
   "metadata": {},
   "outputs": [],
   "source": [
    "from tensorflow.examples.tutorials.mnist import input_data"
   ]
  },
  {
   "cell_type": "code",
   "execution_count": 23,
   "metadata": {},
   "outputs": [
    {
     "name": "stdout",
     "output_type": "stream",
     "text": [
      "Extracting official/mnist/dataset.py/train-images-idx3-ubyte.gz\n",
      "Extracting official/mnist/dataset.py/train-labels-idx1-ubyte.gz\n",
      "Extracting official/mnist/dataset.py/t10k-images-idx3-ubyte.gz\n",
      "Extracting official/mnist/dataset.py/t10k-labels-idx1-ubyte.gz\n"
     ]
    }
   ],
   "source": [
    "mnist = input_data.read_data_sets(\"official/mnist/dataset.py\", one_hot = True)"
   ]
  },
  {
   "cell_type": "code",
   "execution_count": 24,
   "metadata": {},
   "outputs": [
    {
     "data": {
      "text/plain": [
       "tensorflow.contrib.learn.python.learn.datasets.base.Datasets"
      ]
     },
     "execution_count": 24,
     "metadata": {},
     "output_type": "execute_result"
    }
   ],
   "source": [
    "type(mnist)"
   ]
  },
  {
   "cell_type": "code",
   "execution_count": 25,
   "metadata": {},
   "outputs": [
    {
     "data": {
      "text/plain": [
       "55000"
      ]
     },
     "execution_count": 25,
     "metadata": {},
     "output_type": "execute_result"
    }
   ],
   "source": [
    "mnist.train.num_examples"
   ]
  },
  {
   "cell_type": "code",
   "execution_count": 26,
   "metadata": {},
   "outputs": [
    {
     "data": {
      "text/plain": [
       "10000"
      ]
     },
     "execution_count": 26,
     "metadata": {},
     "output_type": "execute_result"
    }
   ],
   "source": [
    "mnist.test.num_examples"
   ]
  },
  {
   "cell_type": "code",
   "execution_count": 27,
   "metadata": {},
   "outputs": [],
   "source": [
    "def init_weights(filter_shape):\n",
    "    init_random_dist = tf.truncated_normal(filter_shape, stddev = 0.1)\n",
    "    return(tf.Variable(init_random_dist))"
   ]
  },
  {
   "cell_type": "code",
   "execution_count": 28,
   "metadata": {},
   "outputs": [],
   "source": [
    "def init_bias(bias_shape):\n",
    "    init_bias_vals = tf.constant(0.1, shape = bias_shape)\n",
    "    return(tf.Variable(init_bias_vals))"
   ]
  },
  {
   "cell_type": "code",
   "execution_count": 29,
   "metadata": {},
   "outputs": [],
   "source": [
    "def conv_layer_and_dot_product(inputs, filter_shape):\n",
    "    filter_init_with_weights = init_weights(filter_shape)\n",
    "    conv_layer_out = tf.nn.conv2d(inputs, filter_init_with_weights, strides = [1,1,1,1], padding = 'SAME')\n",
    "    return(conv_layer_out)"
   ]
  },
  {
   "cell_type": "code",
   "execution_count": 30,
   "metadata": {},
   "outputs": [],
   "source": [
    "def relu_layer_and_dot_product_plus_bias(inputs, filter_shape):\n",
    "    bias = init_bias([filter_shape[3]])\n",
    "    relu_layer_out = tf.nn.relu(inputs + bias)\n",
    "    return(relu_layer_out)"
   ]
  },
  {
   "cell_type": "code",
   "execution_count": 31,
   "metadata": {},
   "outputs": [],
   "source": [
    "def maxpool_2by2_and_reduce_spatial_size(inputs):\n",
    "    pooling_layer_out = tf.nn.max_pool(inputs, ksize = [1,2,2,1], strides = [1,2,2,1], padding = 'SAME')\n",
    "    return(pooling_layer_out)"
   ]
  },
  {
   "cell_type": "code",
   "execution_count": 32,
   "metadata": {},
   "outputs": [],
   "source": [
    "def create_fully_connected_layer_and_compute_dotproduct_plus_bias(inputs, output_size):\n",
    "    in_size = int(inputs.get_shape()[1])\n",
    "    wt = init_weights([in_size, output_size])\n",
    "    bias = init_bias([output_size])\n",
    "    fc_xW_plus_bias_outputs = tf.matmul(inputs, wt) + bias\n",
    "    return(fc_xW_plus_bias_outputs)"
   ]
  },
  {
   "cell_type": "code",
   "execution_count": 33,
   "metadata": {},
   "outputs": [],
   "source": [
    "x = tf.placeholder(tf.float32, shape = [None, 784])\n",
    "y_true = tf.placeholder(tf.float32, [None,10])"
   ]
  },
  {
   "cell_type": "code",
   "execution_count": 34,
   "metadata": {},
   "outputs": [],
   "source": [
    "x_image = tf.reshape(x,[-1, 28, 28, 1])"
   ]
  },
  {
   "cell_type": "code",
   "execution_count": 35,
   "metadata": {},
   "outputs": [],
   "source": [
    "conv_layer_1_out \\\n",
    "    = conv_layer_and_dot_product(x_image, filter_shape=[5, 5, 1, 32])\n",
    "conv_relu_layer_1_out \\\n",
    "    = relu_layer_and_dot_product_plus_bias(conv_layer_1_out, filter_shape=[5, 5, 1, 32])"
   ]
  },
  {
   "cell_type": "code",
   "execution_count": 36,
   "metadata": {},
   "outputs": [],
   "source": [
    "pooling_layer_1_out = maxpool_2by2_and_reduce_spatial_size(conv_relu_layer_1_out)"
   ]
  },
  {
   "cell_type": "code",
   "execution_count": 37,
   "metadata": {},
   "outputs": [],
   "source": [
    "conv_layer_2_out \\\n",
    "    = conv_layer_and_dot_product(pooling_layer_1_out, filter_shape=[5, 5, 32, 64])\n",
    "conv_relu_layer_2_out \\\n",
    "    = relu_layer_and_dot_product_plus_bias(conv_layer_2_out, filter_shape=[5, 5, 32, 64])"
   ]
  },
  {
   "cell_type": "code",
   "execution_count": 38,
   "metadata": {},
   "outputs": [],
   "source": [
    "pooling_layer_2_out = maxpool_2by2_and_reduce_spatial_size(conv_relu_layer_2_out)\n",
    "pooling_layer_2_out_flat = tf.reshape(pooling_layer_2_out, [-1, 7*7*64])"
   ]
  },
  {
   "cell_type": "code",
   "execution_count": 39,
   "metadata": {},
   "outputs": [],
   "source": [
    "fc_layer_1_out \\\n",
    "    = create_fully_connected_layer_and_compute_dotproduct_plus_bias(pooling_layer_2_out_flat, output_size=1024)\n",
    "fc_relu_layer_1_out = tf.nn.relu(fc_layer_1_out)"
   ]
  },
  {
   "cell_type": "code",
   "execution_count": 40,
   "metadata": {},
   "outputs": [
    {
     "name": "stdout",
     "output_type": "stream",
     "text": [
      "WARNING:tensorflow:From <ipython-input-40-addd9c63bdb2>:2: calling dropout (from tensorflow.python.ops.nn_ops) with keep_prob is deprecated and will be removed in a future version.\n",
      "Instructions for updating:\n",
      "Please use `rate` instead of `keep_prob`. Rate should be set to `rate = 1 - keep_prob`.\n"
     ]
    }
   ],
   "source": [
    "hold_prob = tf.placeholder(tf.float32)\n",
    "fc_dropout_out = tf.nn.dropout(fc_relu_layer_1_out, keep_prob = hold_prob)"
   ]
  },
  {
   "cell_type": "code",
   "execution_count": 41,
   "metadata": {},
   "outputs": [],
   "source": [
    "y_pred = create_fully_connected_layer_and_compute_dotproduct_plus_bias(fc_dropout_out,output_size=10)"
   ]
  },
  {
   "cell_type": "code",
   "execution_count": 42,
   "metadata": {},
   "outputs": [],
   "source": [
    "softmax_cross_entropy_loss = tf.nn.softmax_cross_entropy_with_logits_v2(labels=y_true,logits=y_pred)\n",
    "mean_cross_entropy = tf.reduce_mean(softmax_cross_entropy_loss)"
   ]
  },
  {
   "cell_type": "code",
   "execution_count": 43,
   "metadata": {},
   "outputs": [],
   "source": [
    "optimizer = tf.train.AdamOptimizer(learning_rate=0.001)"
   ]
  },
  {
   "cell_type": "code",
   "execution_count": 44,
   "metadata": {},
   "outputs": [],
   "source": [
    "cnn_trainer=optimizer.minimize(mean_cross_entropy)"
   ]
  },
  {
   "cell_type": "code",
   "execution_count": 45,
   "metadata": {},
   "outputs": [],
   "source": [
    "vars_initializer = tf.global_variables_initializer()\n",
    "steps=5000"
   ]
  },
  {
   "cell_type": "code",
   "execution_count": 46,
   "metadata": {},
   "outputs": [
    {
     "name": "stdout",
     "output_type": "stream",
     "text": [
      "Step :0\n",
      "Accuracy: \n",
      "0.1131\n",
      "\n",
      "\n",
      "Step :100\n",
      "Accuracy: \n",
      "0.9482\n",
      "\n",
      "\n",
      "Step :200\n",
      "Accuracy: \n",
      "0.967\n",
      "\n",
      "\n",
      "Step :300\n",
      "Accuracy: \n",
      "0.9698\n",
      "\n",
      "\n",
      "Step :400\n",
      "Accuracy: \n",
      "0.9749\n",
      "\n",
      "\n",
      "Step :500\n",
      "Accuracy: \n",
      "0.9801\n",
      "\n",
      "\n",
      "Step :600\n",
      "Accuracy: \n",
      "0.9823\n",
      "\n",
      "\n",
      "Step :700\n",
      "Accuracy: \n",
      "0.9818\n",
      "\n",
      "\n",
      "Step :800\n",
      "Accuracy: \n",
      "0.9812\n",
      "\n",
      "\n",
      "Step :900\n",
      "Accuracy: \n",
      "0.9801\n",
      "\n",
      "\n",
      "Step :1000\n",
      "Accuracy: \n",
      "0.9832\n",
      "\n",
      "\n",
      "Step :1100\n",
      "Accuracy: \n",
      "0.9878\n",
      "\n",
      "\n",
      "Step :1200\n",
      "Accuracy: \n",
      "0.9837\n",
      "\n",
      "\n",
      "Step :1300\n",
      "Accuracy: \n",
      "0.9871\n",
      "\n",
      "\n",
      "Step :1400\n",
      "Accuracy: \n",
      "0.9879\n",
      "\n",
      "\n",
      "Step :1500\n",
      "Accuracy: \n",
      "0.9868\n",
      "\n",
      "\n",
      "Step :1600\n",
      "Accuracy: \n",
      "0.9902\n",
      "\n",
      "\n",
      "Step :1700\n",
      "Accuracy: \n",
      "0.9876\n",
      "\n",
      "\n",
      "Step :1800\n",
      "Accuracy: \n",
      "0.9872\n",
      "\n",
      "\n",
      "Step :1900\n",
      "Accuracy: \n",
      "0.9861\n",
      "\n",
      "\n",
      "Step :2000\n",
      "Accuracy: \n",
      "0.9859\n",
      "\n",
      "\n",
      "Step :2100\n",
      "Accuracy: \n",
      "0.9889\n",
      "\n",
      "\n",
      "Step :2200\n",
      "Accuracy: \n",
      "0.9888\n",
      "\n",
      "\n",
      "Step :2300\n",
      "Accuracy: \n",
      "0.9882\n",
      "\n",
      "\n",
      "Step :2400\n",
      "Accuracy: \n",
      "0.9905\n",
      "\n",
      "\n",
      "Step :2500\n",
      "Accuracy: \n",
      "0.99\n",
      "\n",
      "\n",
      "Step :2600\n",
      "Accuracy: \n",
      "0.9896\n",
      "\n",
      "\n",
      "Step :2700\n",
      "Accuracy: \n",
      "0.9864\n",
      "\n",
      "\n",
      "Step :2800\n",
      "Accuracy: \n",
      "0.989\n",
      "\n",
      "\n",
      "Step :2900\n",
      "Accuracy: \n",
      "0.9899\n",
      "\n",
      "\n",
      "Step :3000\n",
      "Accuracy: \n",
      "0.9882\n",
      "\n",
      "\n",
      "Step :3100\n",
      "Accuracy: \n",
      "0.9888\n",
      "\n",
      "\n",
      "Step :3200\n",
      "Accuracy: \n",
      "0.9918\n",
      "\n",
      "\n",
      "Step :3300\n",
      "Accuracy: \n",
      "0.9905\n",
      "\n",
      "\n",
      "Step :3400\n",
      "Accuracy: \n",
      "0.9901\n",
      "\n",
      "\n",
      "Step :3500\n",
      "Accuracy: \n",
      "0.9914\n",
      "\n",
      "\n",
      "Step :3600\n",
      "Accuracy: \n",
      "0.9891\n",
      "\n",
      "\n",
      "Step :3700\n",
      "Accuracy: \n",
      "0.9884\n",
      "\n",
      "\n",
      "Step :3800\n",
      "Accuracy: \n",
      "0.9923\n",
      "\n",
      "\n",
      "Step :3900\n",
      "Accuracy: \n",
      "0.9907\n",
      "\n",
      "\n",
      "Step :4000\n",
      "Accuracy: \n",
      "0.9913\n",
      "\n",
      "\n",
      "Step :4100\n",
      "Accuracy: \n",
      "0.9906\n",
      "\n",
      "\n",
      "Step :4200\n",
      "Accuracy: \n",
      "0.9905\n",
      "\n",
      "\n",
      "Step :4300\n",
      "Accuracy: \n",
      "0.9903\n",
      "\n",
      "\n",
      "Step :4400\n",
      "Accuracy: \n",
      "0.9882\n",
      "\n",
      "\n",
      "Step :4500\n",
      "Accuracy: \n",
      "0.9912\n",
      "\n",
      "\n",
      "Step :4600\n",
      "Accuracy: \n",
      "0.99\n",
      "\n",
      "\n",
      "Step :4700\n",
      "Accuracy: \n",
      "0.988\n",
      "\n",
      "\n",
      "Step :4800\n",
      "Accuracy: \n",
      "0.9935\n",
      "\n",
      "\n",
      "Step :4900\n",
      "Accuracy: \n",
      "0.9913\n",
      "\n",
      "\n"
     ]
    }
   ],
   "source": [
    "with tf.Session() as sess:\n",
    "    sess.run(vars_initializer)\n",
    "    for i in range(steps):\n",
    "        batch_x,batch_y = mnist.train.next_batch(50)\n",
    "        sess.run(cnn_trainer,feed_dict = {x:batch_x, y_true:batch_y,hold_prob:0.5})\n",
    "        if i%100==0:\n",
    "            print(\"Step :{}\".format(i))\n",
    "            print(\"Accuracy: \")\n",
    "            matches = tf.equal(tf.argmax(y_pred,1),tf.argmax(y_true,1))\n",
    "            accuracy = tf.reduce_mean(tf.cast(matches,tf.float32))\n",
    "            test_accuracy = sess.run(accuracy, feed_dict = {x:mnist.test.images,y_true:mnist.test.labels,hold_prob:1.0})\n",
    "            print(test_accuracy)\n",
    "            print(\"\\n\")"
   ]
  },
  {
   "cell_type": "code",
   "execution_count": null,
   "metadata": {},
   "outputs": [],
   "source": []
  }
 ],
 "metadata": {
  "kernelspec": {
   "display_name": "Python 3",
   "language": "python",
   "name": "python3"
  },
  "language_info": {
   "codemirror_mode": {
    "name": "ipython",
    "version": 3
   },
   "file_extension": ".py",
   "mimetype": "text/x-python",
   "name": "python",
   "nbconvert_exporter": "python",
   "pygments_lexer": "ipython3",
   "version": "3.7.10"
  }
 },
 "nbformat": 4,
 "nbformat_minor": 4
}
